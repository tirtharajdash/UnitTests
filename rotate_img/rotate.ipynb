{
 "cells": [
  {
   "cell_type": "code",
   "execution_count": 18,
   "id": "1c20dacb",
   "metadata": {},
   "outputs": [
    {
     "data": {
      "text/plain": [
       "True"
      ]
     },
     "execution_count": 18,
     "metadata": {},
     "output_type": "execute_result"
    }
   ],
   "source": [
    "import numpy as np\n",
    "import cv2\n",
    "import pandas as pd\n",
    "\n",
    "def rotate_image(image_array, angle_degrees):\n",
    "    image = np.reshape(image_array, (28, 28)).astype(np.uint8)  # Convert to uint8\n",
    "    rotation_matrix = cv2.getRotationMatrix2D((14, 14), angle_degrees, 1.0)\n",
    "    rotated_image = cv2.warpAffine(image, rotation_matrix, (28, 28), flags=cv2.INTER_LINEAR)\n",
    "    return rotated_image\n",
    "\n",
    "# Load the image data from CSV (assuming one_row.csv contains your image data)\n",
    "image_data = pd.read_csv('one_row.csv')\n",
    "image = image_data.iloc[:, 1:].values[0].astype(np.uint8)  # Convert to uint8\n",
    "\n",
    "angle_degrees = 180\n",
    "rotated_image = rotate_image(image, angle_degrees)\n",
    "\n",
    "cv2.imwrite(f\"img_{angle_degrees}.png\", rotated_image)"
   ]
  },
  {
   "cell_type": "code",
   "execution_count": null,
   "id": "3550a013",
   "metadata": {},
   "outputs": [],
   "source": []
  }
 ],
 "metadata": {
  "kernelspec": {
   "display_name": "Python 3 (ipykernel)",
   "language": "python",
   "name": "python3"
  },
  "language_info": {
   "codemirror_mode": {
    "name": "ipython",
    "version": 3
   },
   "file_extension": ".py",
   "mimetype": "text/x-python",
   "name": "python",
   "nbconvert_exporter": "python",
   "pygments_lexer": "ipython3",
   "version": "3.11.0"
  }
 },
 "nbformat": 4,
 "nbformat_minor": 5
}
